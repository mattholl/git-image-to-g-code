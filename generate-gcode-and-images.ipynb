{
 "cells": [
  {
   "cell_type": "markdown",
   "metadata": {},
   "source": [
    "# Generate G-code instructions and corresponding images"
   ]
  },
  {
   "cell_type": "markdown",
   "metadata": {},
   "source": [
    "1. generate images and gcode\n",
    "2. train an encoder/decoder for the g-code instruction set/vocab\n",
    "3. train an image to token model\n",
    "4. g-code to turtle image render"
   ]
  },
  {
   "cell_type": "code",
   "execution_count": 1,
   "metadata": {},
   "outputs": [
    {
     "name": "stdout",
     "output_type": "stream",
     "text": [
      "/Users/matth/Code/learning_to_draw_02/venv/bin/python\n"
     ]
    }
   ],
   "source": [
    "!which python"
   ]
  },
  {
   "cell_type": "code",
   "execution_count": 4,
   "metadata": {},
   "outputs": [
    {
     "name": "stdout",
     "output_type": "stream",
     "text": [
      "Python 3.12.3\n"
     ]
    }
   ],
   "source": [
    "!python --version"
   ]
  },
  {
   "cell_type": "code",
   "execution_count": 2,
   "metadata": {},
   "outputs": [],
   "source": [
    "!echo $PATH | grep --color=auto tcl-tk"
   ]
  },
  {
   "cell_type": "code",
   "execution_count": 3,
   "metadata": {},
   "outputs": [
    {
     "name": "stdout",
     "output_type": "stream",
     "text": [
      "Collecting turtle-gcode\n",
      "  Using cached turtle_gcode-0.0.1-py3-none-any.whl.metadata (3.0 kB)\n",
      "Using cached turtle_gcode-0.0.1-py3-none-any.whl (7.9 kB)\n",
      "Installing collected packages: turtle-gcode\n",
      "Successfully installed turtle-gcode-0.0.1\n"
     ]
    }
   ],
   "source": [
    "!pip install turtle-gcode"
   ]
  },
  {
   "cell_type": "code",
   "execution_count": 3,
   "metadata": {},
   "outputs": [
    {
     "name": "stdout",
     "output_type": "stream",
     "text": [
      "\u001b[33mWarning:\u001b[0m tcl-tk 8.6.14 is already installed and up-to-date.\n",
      "To reinstall 8.6.14, run:\n",
      "  brew reinstall tcl-tk\n"
     ]
    }
   ],
   "source": [
    "# !brew install python-tk\n",
    "# !brew install tkinter\n",
    "!brew install tcl-tk\n"
   ]
  },
  {
   "cell_type": "code",
   "execution_count": 7,
   "metadata": {},
   "outputs": [],
   "source": [
    "from tkinter import *\n"
   ]
  },
  {
   "cell_type": "code",
   "execution_count": null,
   "metadata": {},
   "outputs": [],
   "source": [
    "import turtle_gcode as turtle\n",
    "\n",
    "turtle.pendown()\n",
    "turtle.forward(50)\n",
    "turtle.circle(20)\n",
    "# turtle.goto()\n",
    "\n",
    "turtle.write_gcode(28, 28)"
   ]
  },
  {
   "cell_type": "markdown",
   "metadata": {},
   "source": [
    "# "
   ]
  },
  {
   "cell_type": "code",
   "execution_count": null,
   "metadata": {},
   "outputs": [],
   "source": []
  },
  {
   "cell_type": "code",
   "execution_count": null,
   "metadata": {},
   "outputs": [],
   "source": [
    "import turtle\n",
    "import tkinter\n",
    "\n",
    "class GcodeRenderImage(g_code_data):\n",
    "    def __init__(self):\n",
    "        # set the drawing canvas\n",
    "        print(\"turtle output\")\n",
    "        self.root = tkinter.Tk()\n",
    "        self.canvas = tkinter.Canvas(self.root, bg=\"white\", height=300, width=400)\n",
    "        self.canvas.pack(side=tkinter.LEFT)\n",
    "        screen = turtle.TurtleScreen(self.canvas)\n",
    "        screen.setworldcoordinates(0, 300, 400, 0)\n",
    "        self.turtle = turtle.RawTurtle(screen)\n",
    "        self.turtle.speed(0)\n",
    "\n",
    "        # keep the current drawing mode\n",
    "        self.mode = \"absolute\"\n",
    "\n",
    "        # start with the pen up and go to origin\n",
    "        self.turtle.up()\n",
    "        self.turtle.goto(0, 0)\n",
    "\n",
    "        # cache the provided g-code instructions\n",
    "        self.g_code_data = g_code_data\n",
    "\n",
    "    \n",
    "    def write_image():\n",
    "        # TODO: loop over the lines in self.g_code_data\n",
    "        # TODO: parse each line"
   ]
  },
  {
   "cell_type": "code",
   "execution_count": null,
   "metadata": {},
   "outputs": [],
   "source": [
    "import turtle\n",
    "import tkinter\n",
    "from lib.DrawingOutput.drawing_output_abc import DrawingOutputABC\n",
    "\n",
    "class TurtleOutput(DrawingOutputABC):\n",
    "    def __init__(self):\n",
    "        # set the drawing canvas\n",
    "        print(\"turtle output\")\n",
    "        self.root = tkinter.Tk()\n",
    "        self.canvas = tkinter.Canvas(self.root, bg=\"white\", height=300, width=400)\n",
    "        self.canvas.pack(side=tkinter.LEFT)\n",
    "        screen = turtle.TurtleScreen(self.canvas)\n",
    "        screen.setworldcoordinates(0, 300, 400, 0)\n",
    "        self.turtle = turtle.RawTurtle(screen)\n",
    "        self.turtle.speed(0)\n",
    "\n",
    "        # keep the current drawing mode\n",
    "        self.mode = \"absolute\"\n",
    "\n",
    "        # start with the pen up and go to origin\n",
    "        self.turtle.up()\n",
    "        self.turtle.goto(0, 0)\n",
    "\n",
    "    def goto_start(self):\n",
    "        # self.turtle.home()\n",
    "        self.turtle.goto(0, 0)\n",
    "\n",
    "    def execute_command(self, command):\n",
    "        # Put the pen up or down\n",
    "        if 'penDown' in command:\n",
    "            if command['penDown']:\n",
    "                self.turtle.down()\n",
    "            else:\n",
    "                self.turtle.up()\n",
    "            return\n",
    "\n",
    "        if 'mode' in command:\n",
    "            self.mode = command['mode']\n",
    "            return\n",
    "\n",
    "        if 'goto' in command:\n",
    "            # Execute the movement command\n",
    "            coords = command['goto']\n",
    "            if self.mode == 'absolute':\n",
    "                self.turtle.goto(coords['x'], coords['y'])\n",
    "            elif self.mode == 'relative':\n",
    "                self.turtle.goto(self.turtle.pos() + (coords['x'], coords['y']))\n",
    "            return\n",
    "\n",
    "    def finish_drawing(self):\n",
    "        self.root.mainloop()\n",
    "        self.turtle.screen.mainloop()\n",
    "\n"
   ]
  }
 ],
 "metadata": {
  "kernelspec": {
   "display_name": "augmented_poetry",
   "language": "python",
   "name": "python3"
  },
  "language_info": {
   "codemirror_mode": {
    "name": "ipython",
    "version": 3
   },
   "file_extension": ".py",
   "mimetype": "text/x-python",
   "name": "python",
   "nbconvert_exporter": "python",
   "pygments_lexer": "ipython3",
   "version": "3.12.3"
  }
 },
 "nbformat": 4,
 "nbformat_minor": 2
}
